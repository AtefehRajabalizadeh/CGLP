{
 "cells": [
  {
   "cell_type": "code",
   "execution_count": 20,
   "metadata": {},
   "outputs": [],
   "source": [
    "import numpy as np\n",
    "from random import randint\n",
    "from math import floor, fabs\n",
    "from cplex.callbacks import UserCutCallback\n",
    "import cplex  as CPX\n",
    "import cplex.callbacks as CPX_CB\n",
    "import sys\n",
    "\n"
   ]
  },
  {
   "cell_type": "code",
   "execution_count": 21,
   "metadata": {},
   "outputs": [],
   "source": [
    "my_obj=[]\n",
    "my_ub=[]\n",
    "my_lb=[]\n",
    "my_colnames=[]\n",
    "my_vtype =\"\"\n",
    "my_rhs=[]\n",
    "my_rownames=[]\n",
    "my_coef=[] \n",
    "rows=[]\n",
    "my_sense=\"\"\n",
    "m=3\n",
    "n=5\n",
    "\n",
    "for i in range(n):\n",
    "    my_obj.append(randint(1,10))\n",
    "    my_ub.append(1)\n",
    "    my_lb.append(0)\n",
    "    my_colnames.append(\"x\"+str(i))\n",
    "    my_vtype=my_vtype+'C'\n",
    "    \n",
    "for i in range(m):\n",
    "#     my_rhs.append(randint(1,10))\n",
    "    my_rownames.append(\"c\"+str(i))\n",
    "    my_row=[]\n",
    "    for j in range(n):\n",
    "        my_row.append(randint(-10,10))\n",
    "    my_coef.append(my_row)\n",
    "    rows.append([range(n),my_coef[i]])  \n",
    "    my_sense=my_sense+'L'\n",
    "PositiveMatrix=[]    \n",
    "for i in range (m):\n",
    "    if np.max(my_coef[i][:]) < 0:\n",
    "         PositiveMatrix.append(10)\n",
    "    else:\n",
    "        x = 0\n",
    "        for j in range (n):\n",
    "            if my_coef[i][j] > 0:\n",
    "                x+=my_coef[i][j]\n",
    "        PositiveMatrix.append(x)\n",
    "\n",
    "for i in range(m):\n",
    "    my_rhs.append(randint(0,(PositiveMatrix[i])))\n",
    "    \n",
    "def populatebyrow(c):\n",
    "    c.objective.set_sense(c.objective.sense.maximize)\n",
    "    # since lower bounds are all 0.0 (the default), lb is omitted here\n",
    "    c.variables.add(obj = my_obj, ub = my_ub,lb=my_lb, types = my_vtype, names = my_colnames)\n",
    "    c.linear_constraints.add(lin_expr = rows, senses = my_sense,\n",
    "                                rhs = my_rhs, names = my_rownames)"
   ]
  },
  {
   "cell_type": "code",
   "execution_count": 22,
   "metadata": {
    "scrolled": false
   },
   "outputs": [
    {
     "name": "stdout",
     "output_type": "stream",
     "text": [
      "ProbType MILP\n",
      "VariableType ['C', 'C', 'C', 'C', 'C']\n",
      "CPXPARAM_Read_DataCheck                          1\n",
      "CPXPARAM_Preprocessing_Linear                    0\n"
     ]
    },
    {
     "name": "stderr",
     "output_type": "stream",
     "text": [
      "CPLEX Error  1017: Not available for mixed-integer problems.\n"
     ]
    },
    {
     "name": "stdout",
     "output_type": "stream",
     "text": [
      "CPXPARAM_Read_DataCheck                          1\n",
      "CPXPARAM_Preprocessing_Linear                    0\n",
      "Found incumbent of value 0.000000 after 0.00 sec. (0.00 ticks)\n",
      "Tried aggregator 1 time.\n",
      "MIP Presolve eliminated 1 rows and 0 columns.\n",
      "MIP Presolve modified 5 coefficients.\n",
      "Reduced MIP has 2 rows, 5 columns, and 9 nonzeros.\n",
      "Reduced MIP has 0 binaries, 0 generals, 0 SOSs, and 0 indicators.\n",
      "Presolve time = 0.00 sec. (0.01 ticks)\n",
      "Tried aggregator 1 time.\n",
      "Reduced MIP has 2 rows, 5 columns, and 9 nonzeros.\n",
      "Reduced MIP has 0 binaries, 0 generals, 0 SOSs, and 0 indicators.\n",
      "Presolve time = 0.00 sec. (0.00 ticks)\n",
      "MIP emphasis: balance optimality and feasibility.\n",
      "MIP search method: dynamic search.\n",
      "Parallel mode: deterministic, using up to 8 threads.\n",
      "Root relaxation solution time = 0.00 sec. (0.00 ticks)\n",
      "\n",
      "        Nodes                                         Cuts/\n",
      "   Node  Left     Objective  IInf  Best Integer    Best Bound    ItCnt     Gap\n",
      "\n",
      "*     0+    0                            0.0000       19.0000              --- \n",
      "*     0     0      integral     0       14.5000       14.5000        1    0.00%\n",
      "Elapsed time = 0.06 sec. (0.02 ticks, tree = 0.00 MB, solutions = 1)\n",
      "\n",
      "Root node processing (before b&c):\n",
      "  Real time             =    0.06 sec. (0.02 ticks)\n",
      "Parallel b&c, 8 threads:\n",
      "  Real time             =    0.00 sec. (0.00 ticks)\n",
      "  Sync time (average)   =    0.00 sec.\n",
      "  Wait time (average)   =    0.00 sec.\n",
      "                          ------------\n",
      "Total (root+branch&cut) =    0.06 sec. (0.02 ticks)\n",
      "MIP_optimal\n",
      "Objective value =  14.5\n",
      "\n",
      "Column 0: Value =                 1\n",
      "Column 1: Value =                 1\n",
      "Column 4: Value =               0.5\n"
     ]
    }
   ],
   "source": [
    "# def admipex3(c):\n",
    "#     c.parameters.preprocessing.presolve = 0\n",
    "#     c.parameters.preprocessing.repeatpresolve=0\n",
    "#     c.parameters.preprocessing.relax=0\n",
    "#     c.parameters.preprocessing.boundstrength=0\n",
    "#     c.parameters.preprocessing.reduce = 0\n",
    "#     c.parameters.preprocessing.coeffreduce=0\n",
    "#     c.parameters.preprocessing.linear.set(0)\n",
    "#     c.parameters.preprocessing.reduce=0\n",
    "#     c.parameters.preprocessing.numpass = 0\n",
    "#     c.parameters.preprocessing.numpass=0\n",
    "#     c.parameters.mip.strategy.presolvenode = -1\n",
    "#     c.parameters.preprocessing.aggregator=0\n",
    "#     c.parameters.preprocessing.linear = 0\n",
    "#     c.parameters.preprocessing.dual=-1\n",
    "#     c.parameters.mip.cuts.zerohalfcut=-1\n",
    "    \n",
    "c = CPX.Cplex()\n",
    "populatebyrow(c)\n",
    "admipex3(c)\n",
    "    \n",
    "c.set_log_stream(sys.stdout)\n",
    "c.set_results_stream(sys.stdout)\n",
    "\n",
    "print 'ProbType',c.problem_type[c.get_problem_type()]\n",
    "print 'VariableType', c.variables.get_types()\n",
    "c.solve()\n",
    "c.write(\"TestContinuous.lp\")\n",
    "solution = c.solution\n",
    "\n",
    "# the following line prints the corresponding string\n",
    "print solution.status[solution.get_status()]\n",
    "print \"Objective value = \" , solution.get_objective_value()\n",
    "print\n",
    "x = solution.get_values(0, c.variables.get_num()-1)\n",
    "for j in range(c.variables.get_num()):\n",
    "    if fabs(x[j]) > 1.0e-10:\n",
    "        print \"Column %d: Value = %17.10g\" % (j, x[j])\n",
    "\n",
    "\n"
   ]
  },
  {
   "cell_type": "code",
   "execution_count": null,
   "metadata": {},
   "outputs": [],
   "source": []
  },
  {
   "cell_type": "code",
   "execution_count": null,
   "metadata": {},
   "outputs": [],
   "source": []
  },
  {
   "cell_type": "code",
   "execution_count": null,
   "metadata": {},
   "outputs": [],
   "source": []
  },
  {
   "cell_type": "code",
   "execution_count": null,
   "metadata": {},
   "outputs": [],
   "source": []
  },
  {
   "cell_type": "code",
   "execution_count": null,
   "metadata": {},
   "outputs": [],
   "source": []
  },
  {
   "cell_type": "code",
   "execution_count": null,
   "metadata": {},
   "outputs": [],
   "source": []
  },
  {
   "cell_type": "code",
   "execution_count": null,
   "metadata": {},
   "outputs": [],
   "source": []
  },
  {
   "cell_type": "code",
   "execution_count": null,
   "metadata": {},
   "outputs": [],
   "source": []
  }
 ],
 "metadata": {
  "kernelspec": {
   "display_name": "Python 2",
   "language": "python",
   "name": "python2"
  },
  "language_info": {
   "codemirror_mode": {
    "name": "ipython",
    "version": 2
   },
   "file_extension": ".py",
   "mimetype": "text/x-python",
   "name": "python",
   "nbconvert_exporter": "python",
   "pygments_lexer": "ipython2",
   "version": "2.7.15"
  }
 },
 "nbformat": 4,
 "nbformat_minor": 2
}
