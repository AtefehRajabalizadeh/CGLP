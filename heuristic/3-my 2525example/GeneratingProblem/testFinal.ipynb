{
 "cells": [
  {
   "cell_type": "code",
   "execution_count": 26,
   "metadata": {},
   "outputs": [],
   "source": [
    "import numpy as np\n",
    "from random import randint\n",
    "from math import floor, fabs\n",
    "from cplex.callbacks import UserCutCallback\n",
    "import cplex  as CPX\n",
    "import cplex.callbacks as CPX_CB\n",
    "import sys\n",
    "\n"
   ]
  },
  {
   "cell_type": "code",
   "execution_count": 27,
   "metadata": {},
   "outputs": [],
   "source": [
    "my_obj=[]\n",
    "my_ub=[]\n",
    "my_lb=[]\n",
    "my_colnames=[]\n",
    "my_vtype =\"\"\n",
    "my_rhs=[]\n",
    "my_rownames=[]\n",
    "my_coef=[] \n",
    "rows=[]\n",
    "my_sense=\"\"\n",
    "m=3\n",
    "n=5\n",
    "\n",
    "for i in range(n):\n",
    "    my_obj.append(randint(1,10))\n",
    "    my_ub.append(1)\n",
    "    my_lb.append(0)\n",
    "    my_colnames.append(\"x\"+str(i))\n",
    "    my_vtype=my_vtype+'C'\n",
    "    \n",
    "for i in range(m):\n",
    "#     my_rhs.append(randint(1,10))\n",
    "    my_rownames.append(\"c\"+str(i))\n",
    "    my_row=[]\n",
    "    for j in range(n):\n",
    "        my_row.append(randint(-10,10))\n",
    "    my_coef.append(my_row)\n",
    "    rows.append([range(n),my_coef[i]])  \n",
    "    my_sense=my_sense+'L'\n",
    "PositiveMatrix=[]    \n",
    "for i in range (m):\n",
    "    if np.max(my_coef[i][:]) < 0:\n",
    "         PositiveMatrix.append(10)\n",
    "    else:\n",
    "        x = 0\n",
    "        for j in range (n):\n",
    "            if my_coef[i][j] > 0:\n",
    "                x+=my_coef[i][j]\n",
    "        PositiveMatrix.append(x)\n",
    "\n",
    "for i in range(m):\n",
    "    my_rhs.append(randint(0,(PositiveMatrix[i])))\n",
    "    \n",
    "def populatebyrow(c):\n",
    "    c.objective.set_sense(c.objective.sense.maximize)\n",
    "    # since lower bounds are all 0.0 (the default), lb is omitted here\n",
    "    c.variables.add(obj = my_obj, ub = my_ub,lb=my_lb, types = my_vtype, names = my_colnames)\n",
    "    c.linear_constraints.add(lin_expr = rows, senses = my_sense,\n",
    "                                rhs = my_rhs, names = my_rownames)"
   ]
  },
  {
   "cell_type": "code",
   "execution_count": 28,
   "metadata": {
    "scrolled": false
   },
   "outputs": [
    {
     "name": "stderr",
     "output_type": "stream",
     "text": [
      "CPLEX Error  3003: Not a mixed-integer problem.\n"
     ]
    },
    {
     "name": "stdout",
     "output_type": "stream",
     "text": [
      "ProbType LP\n",
      "VariableType"
     ]
    },
    {
     "ename": "CplexSolverError",
     "evalue": "CPLEX Error  3003: Not a mixed-integer problem.",
     "output_type": "error",
     "traceback": [
      "\u001b[1;31m---------------------------------------------------------------------------\u001b[0m",
      "\u001b[1;31mCplexSolverError\u001b[0m                          Traceback (most recent call last)",
      "\u001b[1;32m<ipython-input-28-b35d599080d5>\u001b[0m in \u001b[0;36m<module>\u001b[1;34m()\u001b[0m\n\u001b[0;32m     24\u001b[0m \u001b[1;33m\u001b[0m\u001b[0m\n\u001b[0;32m     25\u001b[0m \u001b[1;32mprint\u001b[0m \u001b[1;34m'ProbType'\u001b[0m\u001b[1;33m,\u001b[0m\u001b[0mc\u001b[0m\u001b[1;33m.\u001b[0m\u001b[0mproblem_type\u001b[0m\u001b[1;33m[\u001b[0m\u001b[0mc\u001b[0m\u001b[1;33m.\u001b[0m\u001b[0mget_problem_type\u001b[0m\u001b[1;33m(\u001b[0m\u001b[1;33m)\u001b[0m\u001b[1;33m]\u001b[0m\u001b[1;33m\u001b[0m\u001b[0m\n\u001b[1;32m---> 26\u001b[1;33m \u001b[1;32mprint\u001b[0m \u001b[1;34m'VariableType'\u001b[0m\u001b[1;33m,\u001b[0m \u001b[0mc\u001b[0m\u001b[1;33m.\u001b[0m\u001b[0mvariables\u001b[0m\u001b[1;33m.\u001b[0m\u001b[0mget_types\u001b[0m\u001b[1;33m(\u001b[0m\u001b[1;33m)\u001b[0m\u001b[1;33m\u001b[0m\u001b[0m\n\u001b[0m\u001b[0;32m     27\u001b[0m \u001b[0mc\u001b[0m\u001b[1;33m.\u001b[0m\u001b[0msolve\u001b[0m\u001b[1;33m(\u001b[0m\u001b[1;33m)\u001b[0m\u001b[1;33m\u001b[0m\u001b[0m\n\u001b[0;32m     28\u001b[0m \u001b[1;31m# c.write(\"TestContinuous.lp\")\u001b[0m\u001b[1;33m\u001b[0m\u001b[1;33m\u001b[0m\u001b[0m\n",
      "\u001b[1;32mc:\\python27\\64\\lib\\site-packages\\cplex\\_internal\\_subinterfaces.pyc\u001b[0m in \u001b[0;36mget_types\u001b[1;34m(self, *args)\u001b[0m\n\u001b[0;32m    898\u001b[0m             \u001b[1;32mreturn\u001b[0m \u001b[0mCPX_PROC\u001b[0m\u001b[1;33m.\u001b[0m\u001b[0mgetctype\u001b[0m\u001b[1;33m(\u001b[0m\u001b[0mself\u001b[0m\u001b[1;33m.\u001b[0m\u001b[0m_env\u001b[0m\u001b[1;33m.\u001b[0m\u001b[0m_e\u001b[0m\u001b[1;33m,\u001b[0m \u001b[0mself\u001b[0m\u001b[1;33m.\u001b[0m\u001b[0m_cplex\u001b[0m\u001b[1;33m.\u001b[0m\u001b[0m_lp\u001b[0m\u001b[1;33m,\u001b[0m \u001b[0ma\u001b[0m\u001b[1;33m,\u001b[0m \u001b[0mb\u001b[0m\u001b[1;33m)\u001b[0m\u001b[1;33m\u001b[0m\u001b[0m\n\u001b[0;32m    899\u001b[0m         t = [i for i in \"\".join(apply_freeform_two_args(\n\u001b[1;32m--> 900\u001b[1;33m             gettype, self._conv, args))]\n\u001b[0m\u001b[0;32m    901\u001b[0m         \u001b[1;32mreturn\u001b[0m \u001b[0mt\u001b[0m\u001b[1;33m[\u001b[0m\u001b[1;36m0\u001b[0m\u001b[1;33m]\u001b[0m \u001b[1;32mif\u001b[0m \u001b[0mlen\u001b[0m\u001b[1;33m(\u001b[0m\u001b[0mt\u001b[0m\u001b[1;33m)\u001b[0m \u001b[1;33m==\u001b[0m \u001b[1;36m1\u001b[0m \u001b[1;32melse\u001b[0m \u001b[0mt\u001b[0m\u001b[1;33m\u001b[0m\u001b[0m\n\u001b[0;32m    902\u001b[0m \u001b[1;33m\u001b[0m\u001b[0m\n",
      "\u001b[1;32mc:\\python27\\64\\lib\\site-packages\\cplex\\_internal\\_aux_functions.pyc\u001b[0m in \u001b[0;36mapply_freeform_two_args\u001b[1;34m(fn, convert, args)\u001b[0m\n\u001b[0;32m    142\u001b[0m             \u001b[1;32mraise\u001b[0m \u001b[0mTypeError\u001b[0m\u001b[1;33m(\u001b[0m\u001b[1;34m\"expecting name or index\"\u001b[0m\u001b[1;33m)\u001b[0m\u001b[1;33m\u001b[0m\u001b[0m\n\u001b[0;32m    143\u001b[0m     \u001b[1;32melif\u001b[0m \u001b[0mlen\u001b[0m\u001b[1;33m(\u001b[0m\u001b[0margs\u001b[0m\u001b[1;33m)\u001b[0m \u001b[1;33m==\u001b[0m \u001b[1;36m0\u001b[0m\u001b[1;33m:\u001b[0m\u001b[1;33m\u001b[0m\u001b[0m\n\u001b[1;32m--> 144\u001b[1;33m         \u001b[1;32mreturn\u001b[0m \u001b[0mfn\u001b[0m\u001b[1;33m(\u001b[0m\u001b[1;36m0\u001b[0m\u001b[1;33m)\u001b[0m\u001b[1;33m\u001b[0m\u001b[0m\n\u001b[0m\u001b[0;32m    145\u001b[0m     \u001b[1;32melse\u001b[0m\u001b[1;33m:\u001b[0m\u001b[1;33m\u001b[0m\u001b[0m\n\u001b[0;32m    146\u001b[0m         \u001b[1;32mraise\u001b[0m \u001b[0mWrongNumberOfArgumentsError\u001b[0m\u001b[1;33m(\u001b[0m\u001b[1;33m)\u001b[0m\u001b[1;33m\u001b[0m\u001b[0m\n",
      "\u001b[1;32mc:\\python27\\64\\lib\\site-packages\\cplex\\_internal\\_subinterfaces.pyc\u001b[0m in \u001b[0;36mgettype\u001b[1;34m(a, b)\u001b[0m\n\u001b[0;32m    896\u001b[0m         \"\"\"\n\u001b[0;32m    897\u001b[0m         \u001b[1;32mdef\u001b[0m \u001b[0mgettype\u001b[0m\u001b[1;33m(\u001b[0m\u001b[0ma\u001b[0m\u001b[1;33m,\u001b[0m \u001b[0mb\u001b[0m\u001b[1;33m=\u001b[0m\u001b[0mself\u001b[0m\u001b[1;33m.\u001b[0m\u001b[0mget_num\u001b[0m\u001b[1;33m(\u001b[0m\u001b[1;33m)\u001b[0m \u001b[1;33m-\u001b[0m \u001b[1;36m1\u001b[0m\u001b[1;33m)\u001b[0m\u001b[1;33m:\u001b[0m\u001b[1;33m\u001b[0m\u001b[0m\n\u001b[1;32m--> 898\u001b[1;33m             \u001b[1;32mreturn\u001b[0m \u001b[0mCPX_PROC\u001b[0m\u001b[1;33m.\u001b[0m\u001b[0mgetctype\u001b[0m\u001b[1;33m(\u001b[0m\u001b[0mself\u001b[0m\u001b[1;33m.\u001b[0m\u001b[0m_env\u001b[0m\u001b[1;33m.\u001b[0m\u001b[0m_e\u001b[0m\u001b[1;33m,\u001b[0m \u001b[0mself\u001b[0m\u001b[1;33m.\u001b[0m\u001b[0m_cplex\u001b[0m\u001b[1;33m.\u001b[0m\u001b[0m_lp\u001b[0m\u001b[1;33m,\u001b[0m \u001b[0ma\u001b[0m\u001b[1;33m,\u001b[0m \u001b[0mb\u001b[0m\u001b[1;33m)\u001b[0m\u001b[1;33m\u001b[0m\u001b[0m\n\u001b[0m\u001b[0;32m    899\u001b[0m         t = [i for i in \"\".join(apply_freeform_two_args(\n\u001b[0;32m    900\u001b[0m             gettype, self._conv, args))]\n",
      "\u001b[1;32mc:\\python27\\64\\lib\\site-packages\\cplex\\_internal\\_procedural.pyc\u001b[0m in \u001b[0;36mgetctype\u001b[1;34m(env, lp, begin, end)\u001b[0m\n\u001b[0;32m    971\u001b[0m     \u001b[0minout_list\u001b[0m \u001b[1;33m=\u001b[0m \u001b[1;33m[\u001b[0m\u001b[0mbegin\u001b[0m\u001b[1;33m,\u001b[0m \u001b[0mend\u001b[0m\u001b[1;33m]\u001b[0m\u001b[1;33m\u001b[0m\u001b[0m\n\u001b[0;32m    972\u001b[0m     \u001b[0mstatus\u001b[0m \u001b[1;33m=\u001b[0m \u001b[0mCR\u001b[0m\u001b[1;33m.\u001b[0m\u001b[0mCPXXgetctype\u001b[0m\u001b[1;33m(\u001b[0m\u001b[0menv\u001b[0m\u001b[1;33m,\u001b[0m \u001b[0mlp\u001b[0m\u001b[1;33m,\u001b[0m \u001b[0minout_list\u001b[0m\u001b[1;33m)\u001b[0m\u001b[1;33m\u001b[0m\u001b[0m\n\u001b[1;32m--> 973\u001b[1;33m     \u001b[0mcheck_status\u001b[0m\u001b[1;33m(\u001b[0m\u001b[0menv\u001b[0m\u001b[1;33m,\u001b[0m \u001b[0mstatus\u001b[0m\u001b[1;33m)\u001b[0m\u001b[1;33m\u001b[0m\u001b[0m\n\u001b[0m\u001b[0;32m    974\u001b[0m     \u001b[1;31m# We expect to get [sense]\u001b[0m\u001b[1;33m\u001b[0m\u001b[1;33m\u001b[0m\u001b[0m\n\u001b[0;32m    975\u001b[0m     \u001b[1;32massert\u001b[0m \u001b[0mlen\u001b[0m\u001b[1;33m(\u001b[0m\u001b[0minout_list\u001b[0m\u001b[1;33m)\u001b[0m \u001b[1;33m==\u001b[0m \u001b[1;36m1\u001b[0m\u001b[1;33m\u001b[0m\u001b[0m\n",
      "\u001b[1;32mc:\\python27\\64\\lib\\site-packages\\cplex\\_internal\\_procedural.pyc\u001b[0m in \u001b[0;36m__call__\u001b[1;34m(self, env, status, from_cb)\u001b[0m\n\u001b[0;32m    301\u001b[0m                 \u001b[1;32melse\u001b[0m\u001b[1;33m:\u001b[0m\u001b[1;33m\u001b[0m\u001b[0m\n\u001b[0;32m    302\u001b[0m                     \u001b[0merror_string\u001b[0m \u001b[1;33m=\u001b[0m \u001b[0mgeterrorstring\u001b[0m\u001b[1;33m(\u001b[0m\u001b[0menv\u001b[0m\u001b[1;33m,\u001b[0m \u001b[0mstatus\u001b[0m\u001b[1;33m)\u001b[0m\u001b[1;33m\u001b[0m\u001b[0m\n\u001b[1;32m--> 303\u001b[1;33m             \u001b[1;32mraise\u001b[0m \u001b[0mCplexSolverError\u001b[0m\u001b[1;33m(\u001b[0m\u001b[0merror_string\u001b[0m\u001b[1;33m,\u001b[0m \u001b[0menv\u001b[0m\u001b[1;33m,\u001b[0m \u001b[0mstatus\u001b[0m\u001b[1;33m)\u001b[0m\u001b[1;33m\u001b[0m\u001b[0m\n\u001b[0m\u001b[0;32m    304\u001b[0m \u001b[1;33m\u001b[0m\u001b[0m\n\u001b[0;32m    305\u001b[0m \u001b[1;33m\u001b[0m\u001b[0m\n",
      "\u001b[1;31mCplexSolverError\u001b[0m: CPLEX Error  3003: Not a mixed-integer problem."
     ]
    }
   ],
   "source": [
    "# def admipex3(c):\n",
    "#     c.parameters.preprocessing.presolve = 0\n",
    "#     c.parameters.preprocessing.repeatpresolve=0\n",
    "#     c.parameters.preprocessing.relax=0\n",
    "#     c.parameters.preprocessing.boundstrength=0\n",
    "#     c.parameters.preprocessing.reduce = 0\n",
    "#     c.parameters.preprocessing.coeffreduce=0\n",
    "#     c.parameters.preprocessing.linear.set(0)\n",
    "#     c.parameters.preprocessing.reduce=0\n",
    "#     c.parameters.preprocessing.numpass = 0\n",
    "#     c.parameters.preprocessing.numpass=0\n",
    "#     c.parameters.mip.strategy.presolvenode = -1\n",
    "#     c.parameters.preprocessing.aggregator=0\n",
    "#     c.parameters.preprocessing.linear = 0\n",
    "#     c.parameters.preprocessing.dual=-1\n",
    "#     c.parameters.mip.cuts.zerohalfcut=-1\n",
    "    \n",
    "c = CPX.Cplex(\"TestContinuous.lp\")\n",
    "# populatebyrow(c)\n",
    "# admipex3(c)\n",
    "    \n",
    "c.set_log_stream(sys.stdout)\n",
    "c.set_results_stream(sys.stdout)\n",
    "\n",
    "print 'ProbType',c.problem_type[c.get_problem_type()]\n",
    "print 'VariableType', c.variables.get_types()\n",
    "c.solve()\n",
    "# c.write(\"TestContinuous.lp\")\n",
    "solution = c.solution\n",
    "\n",
    "# the following line prints the corresponding string\n",
    "print solution.status[solution.get_status()]\n",
    "print \"Objective value = \" , solution.get_objective_value()\n",
    "print\n",
    "x = solution.get_values(0, c.variables.get_num()-1)\n",
    "for j in range(c.variables.get_num()):\n",
    "    if fabs(x[j]) > 1.0e-10:\n",
    "        print \"Column %d: Value = %17.10g\" % (j, x[j])\n",
    "\n",
    "\n"
   ]
  },
  {
   "cell_type": "code",
   "execution_count": null,
   "metadata": {},
   "outputs": [],
   "source": []
  },
  {
   "cell_type": "code",
   "execution_count": null,
   "metadata": {},
   "outputs": [],
   "source": []
  },
  {
   "cell_type": "code",
   "execution_count": null,
   "metadata": {},
   "outputs": [],
   "source": []
  },
  {
   "cell_type": "code",
   "execution_count": null,
   "metadata": {},
   "outputs": [],
   "source": []
  },
  {
   "cell_type": "code",
   "execution_count": null,
   "metadata": {},
   "outputs": [],
   "source": []
  },
  {
   "cell_type": "code",
   "execution_count": null,
   "metadata": {},
   "outputs": [],
   "source": []
  },
  {
   "cell_type": "code",
   "execution_count": null,
   "metadata": {},
   "outputs": [],
   "source": []
  },
  {
   "cell_type": "code",
   "execution_count": null,
   "metadata": {},
   "outputs": [],
   "source": []
  }
 ],
 "metadata": {
  "kernelspec": {
   "display_name": "Python 2",
   "language": "python",
   "name": "python2"
  },
  "language_info": {
   "codemirror_mode": {
    "name": "ipython",
    "version": 2
   },
   "file_extension": ".py",
   "mimetype": "text/x-python",
   "name": "python",
   "nbconvert_exporter": "python",
   "pygments_lexer": "ipython2",
   "version": "2.7.15"
  }
 },
 "nbformat": 4,
 "nbformat_minor": 2
}
